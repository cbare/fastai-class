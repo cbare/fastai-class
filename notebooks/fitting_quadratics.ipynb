{
 "cells": [
  {
   "cell_type": "markdown",
   "id": "5aee70ca",
   "metadata": {},
   "source": [
    "# Fitting Quadratics\n",
    "\n",
    "A variation on [How does a neural net really work][1].\n",
    "\n",
    "[1]: https://www.kaggle.com/code/jhoward/how-does-a-neural-net-really-work"
   ]
  },
  {
   "cell_type": "code",
   "execution_count": 1,
   "id": "a6581cc7",
   "metadata": {},
   "outputs": [],
   "source": [
    "import numpy as np\n",
    "import torch\n",
    "import matplotlib.pyplot as plt\n",
    "from ipywidgets import interact\n",
    "from functools import partial"
   ]
  },
  {
   "cell_type": "code",
   "execution_count": 2,
   "id": "5335047d",
   "metadata": {},
   "outputs": [],
   "source": [
    "def quad(a, b, c, x):\n",
    "    return a*x**2 + b*x + c"
   ]
  },
  {
   "cell_type": "code",
   "execution_count": 3,
   "id": "b1b0cba0",
   "metadata": {},
   "outputs": [],
   "source": [
    "def mk_quad(a,b,c):\n",
    "    return partial(quad, a, b, c)"
   ]
  },
  {
   "cell_type": "code",
   "execution_count": 4,
   "id": "308a5507",
   "metadata": {},
   "outputs": [],
   "source": [
    "f = mk_quad(3,2,1)"
   ]
  },
  {
   "cell_type": "code",
   "execution_count": 5,
   "id": "6a2167b3",
   "metadata": {},
   "outputs": [],
   "source": [
    "x = np.linspace(-2, 2, num=20)"
   ]
  },
  {
   "cell_type": "code",
   "execution_count": 6,
   "id": "2a96a128",
   "metadata": {},
   "outputs": [
    {
     "data": {
      "text/plain": [
       "array([ 9.        ,  7.02770083,  5.32132964,  3.88088643,  2.70637119,\n",
       "        1.79778393,  1.15512465,  0.77839335,  0.66759003,  0.82271468,\n",
       "        1.24376731,  1.93074792,  2.88365651,  4.10249307,  5.58725762,\n",
       "        7.33795014,  9.35457064, 11.63711911, 14.18559557, 17.        ])"
      ]
     },
     "execution_count": 6,
     "metadata": {},
     "output_type": "execute_result"
    }
   ],
   "source": [
    "y = f(x)\n",
    "y"
   ]
  },
  {
   "cell_type": "code",
   "execution_count": 7,
   "id": "b80d41c5",
   "metadata": {},
   "outputs": [
    {
     "data": {
      "text/plain": [
       "[<matplotlib.lines.Line2D at 0x7fd0178eed70>]"
      ]
     },
     "execution_count": 7,
     "metadata": {},
     "output_type": "execute_result"
    },
    {
     "data": {
      "image/png": "[encoded data removed]",
      "text/plain": [
       "<Figure size 432x288 with 1 Axes>"
      ]
     },
     "metadata": {
      "needs_background": "light"
     },
     "output_type": "display_data"
    }
   ],
   "source": [
    "plt.plot(x,y)"
   ]
  },
  {
   "cell_type": "code",
   "execution_count": 8,
   "id": "1dffbbf1",
   "metadata": {},
   "outputs": [],
   "source": [
    "def noise(scale, size):\n",
    "    return np.random.normal(scale=scale, size=size)\n",
    "\n",
    "def add_noise(x, mult_scale, add_scale):\n",
    "    return x*(1+noise(mult_scale, x.shape)) + noise(add_scale, x.shape)"
   ]
  },
  {
   "cell_type": "code",
   "execution_count": 9,
   "id": "b188b08d",
   "metadata": {},
   "outputs": [
    {
     "data": {
      "text/plain": [
       "array([12.53960137,  6.39753234,  6.45659121,  3.51697592,  1.69968532,\n",
       "        1.83788952, -0.02410942,  1.52115021, -0.32739293,  0.51908569,\n",
       "        0.16829226,  4.43940317,  3.0727315 ,  0.161161  ,  3.9298069 ,\n",
       "        4.26887331,  6.82548595,  9.79469402,  8.3290578 , 10.09254298])"
      ]
     },
     "execution_count": 9,
     "metadata": {},
     "output_type": "execute_result"
    }
   ],
   "source": [
    "np.random.seed(42)\n",
    "z = add_noise(f(x), 0.3, 1.5)\n",
    "z"
   ]
  },
  {
   "cell_type": "code",
   "execution_count": 10,
   "id": "13e1eca8",
   "metadata": {},
   "outputs": [],
   "source": [
    "def mse(preds, acts):\n",
    "    return ((preds-acts)**2).mean()"
   ]
  },
  {
   "cell_type": "markdown",
   "id": "4b64e613",
   "metadata": {},
   "source": [
    "## Fit a quadratic by eye"
   ]
  },
  {
   "cell_type": "code",
   "execution_count": 60,
   "id": "0b1828df",
   "metadata": {},
   "outputs": [
    {
     "data": {
      "application/vnd.jupyter.widget-view+json": {
       "model_id": "c47f64ba62bc442380dbd0e3bde055dc",
       "version_major": 2,
       "version_minor": 0
      },
      "text/plain": [
       "interactive(children=(FloatSlider(value=1.5, description='a', max=4.5, min=-1.5), FloatSlider(value=1.5, descr…"
      ]
     },
     "metadata": {},
     "output_type": "display_data"
    }
   ],
   "source": [
    "@interact(a=1.5, b=1.5, c=1.5)\n",
    "def plot_quad(a,b,c):\n",
    "    f = mk_quad(a,b,c)\n",
    "    preds = f(x)\n",
    "    loss = mse(preds, z)\n",
    "\n",
    "    plt.scatter(x,z, color='#33669980')\n",
    "    plt.ylim(-1, 14)\n",
    "    plt.plot(x, preds, color='#cc333380')\n",
    "    plt.title(f\"mse= {loss:2}\")\n",
    "    plt.show()"
   ]
  },
  {
   "cell_type": "markdown",
   "id": "2ea76834",
   "metadata": {},
   "source": [
    "## Fit a quadratic by gradient descent\n",
    "\n",
    "Using PyTorch's ability to compute gradient to do gradient descent."
   ]
  },
  {
   "cell_type": "code",
   "execution_count": 12,
   "id": "abc899f4",
   "metadata": {},
   "outputs": [],
   "source": [
    "def _quad_mse(params, x, y):\n",
    "    f = mk_quad(*params)\n",
    "    return mse(f(x), y)\n",
    "\n",
    "x = torch.linspace(-2, 2, steps=20)\n",
    "\n",
    "np.random.seed(42)\n",
    "y = add_noise(f(x), 0.3, 1.5)\n",
    "\n",
    "quad_mse = partial(_quad_mse, x=x, y=y)"
   ]
  },
  {
   "cell_type": "code",
   "execution_count": 13,
   "id": "d30ebed6",
   "metadata": {},
   "outputs": [
    {
     "data": {
      "text/plain": [
       "tensor(5.8336, dtype=torch.float64)"
      ]
     },
     "execution_count": 13,
     "metadata": {},
     "output_type": "execute_result"
    }
   ],
   "source": [
    "quad_mse([1.5, 1.5, 1.5])"
   ]
  },
  {
   "cell_type": "code",
   "execution_count": 14,
   "id": "41e7c30c",
   "metadata": {},
   "outputs": [
    {
     "data": {
      "text/plain": [
       "tensor([1.5000, 1.5000, 1.5000], requires_grad=True)"
      ]
     },
     "execution_count": 14,
     "metadata": {},
     "output_type": "execute_result"
    }
   ],
   "source": [
    "abc = torch.tensor([1.5, 1.5, 1.5])\n",
    "abc.requires_grad_()"
   ]
  },
  {
   "cell_type": "code",
   "execution_count": 15,
   "id": "8f758cc3",
   "metadata": {},
   "outputs": [],
   "source": [
    "loss = quad_mse(abc)"
   ]
  },
  {
   "cell_type": "code",
   "execution_count": 16,
   "id": "a9a77c6b",
   "metadata": {},
   "outputs": [
    {
     "data": {
      "text/plain": [
       "tensor(5.8336, dtype=torch.float64, grad_fn=<MeanBackward0>)"
      ]
     },
     "execution_count": 16,
     "metadata": {},
     "output_type": "execute_result"
    }
   ],
   "source": [
    "loss"
   ]
  },
  {
   "cell_type": "code",
   "execution_count": 17,
   "id": "a4ca407a",
   "metadata": {},
   "outputs": [],
   "source": [
    "loss.backward()"
   ]
  },
  {
   "cell_type": "code",
   "execution_count": 18,
   "id": "1a53b980",
   "metadata": {},
   "outputs": [
    {
     "data": {
      "text/plain": [
       "tensor([-5.1419,  2.8472, -1.1009])"
      ]
     },
     "execution_count": 18,
     "metadata": {},
     "output_type": "execute_result"
    }
   ],
   "source": [
    "abc.grad"
   ]
  },
  {
   "cell_type": "code",
   "execution_count": 20,
   "id": "32a28d4a",
   "metadata": {},
   "outputs": [
    {
     "name": "stdout",
     "output_type": "stream",
     "text": [
      "loss=5.5\n"
     ]
    }
   ],
   "source": [
    "with torch.no_grad():\n",
    "    abc -= abc.grad * 0.01\n",
    "    loss = quad_mse(abc)\n",
    "\n",
    "print(f\"{loss=:0.2}\")"
   ]
  },
  {
   "cell_type": "code",
   "execution_count": 56,
   "id": "a5cace96",
   "metadata": {},
   "outputs": [
    {
     "name": "stdout",
     "output_type": "stream",
     "text": [
      "step=0, params=tensor([2.7059, 0.7729, 0.4888], requires_grad=True) loss=2.549\n",
      "step=1, params=tensor([2.6545, 0.7224, 0.4815], requires_grad=True) loss=2.46\n",
      "step=2, params=tensor([2.6023, 0.6714, 0.4740], requires_grad=True) loss=2.401\n",
      "step=3, params=tensor([2.5496, 0.6200, 0.4664], requires_grad=True) loss=2.373\n",
      "step=4, params=tensor([2.4969, 0.5683, 0.4588], requires_grad=True) loss=2.377\n"
     ]
    }
   ],
   "source": [
    "n = 5\n",
    "lr = 0.001\n",
    "\n",
    "for i in range(n):\n",
    "    loss = quad_mse(abc)\n",
    "    loss.backward()\n",
    "    with torch.no_grad():\n",
    "        abc -= abc.grad * lr\n",
    "        loss = quad_mse(abc)\n",
    "    print(f\"step={i}, params={abc} {loss=:0.4}\")"
   ]
  },
  {
   "cell_type": "code",
   "execution_count": 57,
   "id": "161cea4b",
   "metadata": {},
   "outputs": [],
   "source": [
    "def plot_quad(a,b,c):\n",
    "    f = mk_quad(a,b,c)\n",
    "    preds = f(x)\n",
    "    loss = mse(preds, z)\n",
    "\n",
    "    plt.scatter(x,z, color='#33669980')\n",
    "    plt.ylim(-1, 14)\n",
    "    plt.plot(x, preds, color='#cc333380')\n",
    "    plt.title(f\"mse= {loss:2}\")\n",
    "    plt.show()"
   ]
  },
  {
   "cell_type": "code",
   "execution_count": 59,
   "id": "3e77cced",
   "metadata": {},
   "outputs": [
    {
     "data": {
      "image/png": "[encoded data removed]",
      "text/plain": [
       "<Figure size 432x288 with 1 Axes>"
      ]
     },
     "metadata": {
      "needs_background": "light"
     },
     "output_type": "display_data"
    }
   ],
   "source": [
    "plot_quad(*abc.detach().numpy())"
   ]
  },
  {
   "cell_type": "code",
   "execution_count": null,
   "id": "5877680f",
   "metadata": {},
   "outputs": [],
   "source": []
  }
 ],
 "metadata": {
  "kernelspec": {
   "display_name": "Python 3 (ipykernel)",
   "language": "python",
   "name": "python3"
  },
  "language_info": {
   "codemirror_mode": {
    "name": "ipython",
    "version": 3
   },
   "file_extension": ".py",
   "mimetype": "text/x-python",
   "name": "python",
   "nbconvert_exporter": "python",
   "pygments_lexer": "ipython3",
   "version": "3.10.4"
  }
 },
 "nbformat": 4,
 "nbformat_minor": 5
}
